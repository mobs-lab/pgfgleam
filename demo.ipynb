{
 "cells": [
  {
   "cell_type": "markdown",
   "id": "138d089e-a841-4ba1-9eda-d957d2e149c6",
   "metadata": {},
   "source": [
    "# Demo: calculate epidemic analytics with the PGFGLEAM package"
   ]
  },
  {
   "cell_type": "code",
   "execution_count": 1,
   "id": "1217533c-b9f9-4184-98b1-7dbe54452917",
   "metadata": {},
   "outputs": [
    {
     "name": "stderr",
     "output_type": "stream",
     "text": [
      "2024-12-09 09:27:03,138\tINFO util.py:154 -- Missing packages: ['ipywidgets']. Run `pip install -U ipywidgets`, then restart the notebook server for rich notebook output.\n"
     ]
    }
   ],
   "source": [
    "from pgfgleam import *\n",
    "import numpy as np\n",
    "from scipy.linalg import block_diag\n",
    "from scipy.sparse import csr_array\n",
    "import matplotlib.pyplot as plt"
   ]
  },
  {
   "cell_type": "markdown",
   "id": "e1d5dad9-e0ca-4fcd-b08b-8be219df3bf6",
   "metadata": {
    "editable": true,
    "slideshow": {
     "slide_type": ""
    },
    "tags": []
   },
   "source": [
    "This demo illustrates how to compute probability distribution of interests for metapopulation epidemic models utilizing Probability Generating Functions (PGFs). See the following reference:\n",
    "\n",
    "St-Onge *et al.*, [Optimization and performance analytics of global aircraft-based wastewater surveillance networks](https://doi.org/10.1101/2024.08.02.24311418), medRxiv 2024.08.02.24311418."
   ]
  },
  {
   "cell_type": "markdown",
   "id": "1eb59f06-d88b-44a0-9bd5-94dfa214ef18",
   "metadata": {},
   "source": [
    "## Model definition"
   ]
  },
  {
   "cell_type": "markdown",
   "id": "4bb54f1d-00ff-4c92-845e-0fc4b93e81d4",
   "metadata": {},
   "source": [
    "PGFs are objects in the ```pgfgleam``` package. To create custom epidemic model, you can create a class inheriting from ```BasePGF```. There are two predefined models: ```StdPGF``` implementing a simple SLIR model, and ```SentinelPGF```, a more elaborate epidemic model used in the article above to calculate analytics about detection at airports. We will use the latter in this demo.\n",
    "\n",
    "To instantiate a PGF object, you need to define the disease dynamics parameters, as well as the mobility and contact structure. See the documentation for the class of interest. Uncomment the following cell to see the docstring of ```SentinelPGF```."
   ]
  },
  {
   "cell_type": "code",
   "execution_count": 2,
   "id": "d423da82-db7a-4483-a6f3-df39742a35ff",
   "metadata": {},
   "outputs": [],
   "source": [
    "# SentinelPGF?"
   ]
  },
  {
   "cell_type": "markdown",
   "id": "541bdbee-b814-499d-8fae-5c2631336394",
   "metadata": {},
   "source": [
    "The mobility and contact structure is defined via matrices. We allow matrices to be ```numpy.array``` or sparse arrays like ```csr_array``` from the ```scipy.sparse``` module. The latter is recommended for large sparse structures.\n",
    "\n",
    "In this simple demo, we will use a metapopulation model with 3 subpopulations and two age groups; we use the index $\\alpha$ to encode both the subpopulation and age group to which an individual belong. In this case, $\\alpha \\in \\lbrace 1,2,3,4,5,6 \\rbrace$."
   ]
  },
  {
   "cell_type": "markdown",
   "id": "b7f30ee9-3fe9-46be-8303-79140fb98b79",
   "metadata": {},
   "source": [
    "### Disease dynamics"
   ]
  },
  {
   "cell_type": "markdown",
   "id": "66fa9955-c662-40d0-b369-c065c44a20b2",
   "metadata": {},
   "source": [
    "The epidemic model defined by ```SentinelPGF``` corresponds to a Susceptible, Latent, Infectious, Post-infectious, Recovered dynamics. The post-infectious individuals can still be detected through wastewater surveillance, but are not contagious anymore. Fixing the disease dynamics mostly revolve around defining the time spent in each compartment and the reproduction number. Here, we fix the mean latent (latency) period, the mean infectious period, and the post-infectious period. All key time quantities are measured in days. We also allow fixing the number of \"subcompartments\" for the infectious and post-infectious stages, changing the shape of the associated period distribution, but here we only consider one subcompartment for both. Finally, we can consider a higher temporal resolution for the disease dynamics portion by increasing the number of \"microsteps\" above 1."
   ]
  },
  {
   "cell_type": "code",
   "execution_count": 3,
   "id": "a86093d3-fad7-45df-a2c8-3e89a2908a95",
   "metadata": {},
   "outputs": [],
   "source": [
    "latency_period = 2.\n",
    "infectious_period = 2.\n",
    "post_infectious_period = 10.\n",
    "nb_latent_states = 1\n",
    "nb_infectious_states = 1\n",
    "nb_post_infectious_states = 1\n",
    "infection='poisson' #can also be nb for negative binomial, one then needs to define the overdispersion k\n",
    "nb_microsteps = 1\n",
    "R0 = 2."
   ]
  },
  {
   "cell_type": "code",
   "execution_count": 4,
   "id": "9beb3c42-0fb5-40bc-9a23-8498e8deea10",
   "metadata": {},
   "outputs": [
    {
     "data": {
      "text/plain": [
       "np.float64(3.3468106480569846)"
      ]
     },
     "execution_count": 4,
     "metadata": {},
     "output_type": "execute_result"
    }
   ],
   "source": [
    "calculate_doubling_time(R0,infectious_period,latency_period,nb_latent_states,nb_infectious_states)"
   ]
  },
  {
   "cell_type": "markdown",
   "id": "4f0b6aca-0f4c-461b-abdc-a3dbdfb0e53e",
   "metadata": {},
   "source": [
    "**Note:** The above quantities imply a mean generation time of 4 days."
   ]
  },
  {
   "cell_type": "markdown",
   "id": "52fc860c-20f0-4b50-a08c-2b6326d4b078",
   "metadata": {},
   "source": [
    "### Contact matrix"
   ]
  },
  {
   "cell_type": "markdown",
   "id": "df0354f2-08c9-4df3-9f8c-0842635aed77",
   "metadata": {},
   "source": [
    "We need to define the contact matrix $u_{\\alpha,\\alpha'}$ corresponding to the mean number of contacts an $\\alpha$-agent makes with an $\\alpha'$-agent per day. Let's assume individuals make 2 contacts on average with individuals of each age group in the **same subpopulation**, hence producing a producing a bloc diagonal matrix."
   ]
  },
  {
   "cell_type": "code",
   "execution_count": 5,
   "id": "4fa1ac52-76ca-49b6-9ee7-c0e0b900f089",
   "metadata": {},
   "outputs": [
    {
     "data": {
      "text/plain": [
       "array([[2., 2., 0., 0., 0., 0.],\n",
       "       [2., 2., 0., 0., 0., 0.],\n",
       "       [0., 0., 2., 2., 0., 0.],\n",
       "       [0., 0., 2., 2., 0., 0.],\n",
       "       [0., 0., 0., 0., 2., 2.],\n",
       "       [0., 0., 0., 0., 2., 2.]])"
      ]
     },
     "execution_count": 5,
     "metadata": {},
     "output_type": "execute_result"
    }
   ],
   "source": [
    "c = np.array([[2.,2.],[2.,2.]])\n",
    "umat_ = block_diag(c,c,c)\n",
    "umat_"
   ]
  },
  {
   "cell_type": "markdown",
   "id": "5b469849-966b-462a-820c-c07a7806a45d",
   "metadata": {},
   "source": [
    "Not all contacts, however, will lead to a transmission. We adjust the contact matrix by a transmissibility factor $\\beta$ informed by the reproduction number. Recall that (see [Mistry *et al.*](https://www.nature.com/articles/s41467-020-20544-y))"
   ]
  },
  {
   "cell_type": "markdown",
   "id": "aa200b1c-d9f5-48ee-bfea-f1d6bcc53012",
   "metadata": {},
   "source": [
    "\\begin{equation*}\n",
    "R_0 = \\beta\\times  \\rho \\times T_\\mathrm{inf}\\;.\n",
    "\\end{equation*}"
   ]
  },
  {
   "cell_type": "markdown",
   "id": "87ae9b66-de86-440d-b1cb-545959c1ee79",
   "metadata": {},
   "source": [
    "where $\\rho$ is the largest eigenvalue of the subcontact matrix of the epidemic origin subpopulation. Here, for any subpopulation, $\\rho = 4$, but for realistic settings $\\rho$ will vary from one subpopulation to another. We rescale the contact matrix by multiplying it with $\\beta$ to match the reproduction number above."
   ]
  },
  {
   "cell_type": "code",
   "execution_count": 6,
   "id": "2ddc3606-f69c-4f42-9413-33bcb8510a20",
   "metadata": {},
   "outputs": [
    {
     "data": {
      "text/plain": [
       "array([[0.5, 0.5, 0. , 0. , 0. , 0. ],\n",
       "       [0.5, 0.5, 0. , 0. , 0. , 0. ],\n",
       "       [0. , 0. , 0.5, 0.5, 0. , 0. ],\n",
       "       [0. , 0. , 0.5, 0.5, 0. , 0. ],\n",
       "       [0. , 0. , 0. , 0. , 0.5, 0.5],\n",
       "       [0. , 0. , 0. , 0. , 0.5, 0.5]])"
      ]
     },
     "execution_count": 6,
     "metadata": {},
     "output_type": "execute_result"
    }
   ],
   "source": [
    "rho = 4\n",
    "beta = R0/(infectious_period*rho)\n",
    "umat = beta*umat_\n",
    "umat"
   ]
  },
  {
   "cell_type": "markdown",
   "id": "2d43fcc2-d1b6-4cbf-96db-a1c81e9a293e",
   "metadata": {},
   "source": [
    "### Long-range mobility (air travel)"
   ]
  },
  {
   "cell_type": "markdown",
   "id": "e830a878-bf84-46ec-a507-51cd719dbf3c",
   "metadata": {},
   "source": [
    "Individuals diffuse in the metapopulation network through air travel. The matrix $m_{\\alpha,\\alpha'}$ encode the age-dependant probability per day to travel, resulting in the change of index $\\alpha \\to \\alpha'$. Since the age of agents is fixed, only certain elements $m_{\\alpha,\\alpha'}$ respecting the age structure are nonzero. By convention, in the code, we only include $m_{\\alpha,\\alpha'}$ where $\\alpha \\neq \\alpha'$; the probability of not moving is calculated separately internally $m_{\\alpha,\\alpha'}$.\n",
    "\n",
    "Let's assume a metapopulation network where individuals from subpopulation 1 move to subpopulation 3 with probability $10^{-3}$ per day and with identical probability in the reverse direction. We assume that subpopulation 2 does not have an airport. The resulting mobility matrix is:"
   ]
  },
  {
   "cell_type": "code",
   "execution_count": 7,
   "id": "846a08dc-8087-46ee-b870-7243e396293c",
   "metadata": {
    "editable": true,
    "slideshow": {
     "slide_type": ""
    },
    "tags": []
   },
   "outputs": [
    {
     "data": {
      "text/plain": [
       "array([[0.   , 0.   , 0.   , 0.   , 0.001, 0.   ],\n",
       "       [0.   , 0.   , 0.   , 0.   , 0.   , 0.001],\n",
       "       [0.   , 0.   , 0.   , 0.   , 0.   , 0.   ],\n",
       "       [0.   , 0.   , 0.   , 0.   , 0.   , 0.   ],\n",
       "       [0.001, 0.   , 0.   , 0.   , 0.   , 0.   ],\n",
       "       [0.   , 0.001, 0.   , 0.   , 0.   , 0.   ]])"
      ]
     },
     "execution_count": 7,
     "metadata": {},
     "output_type": "execute_result"
    }
   ],
   "source": [
    "mmat = np.zeros((6,6))\n",
    "m = 1/10**3\n",
    "mmat[0,4] = m\n",
    "mmat[1,5] = m\n",
    "mmat[4,0] = m\n",
    "mmat[5,1] = m\n",
    "mmat"
   ]
  },
  {
   "cell_type": "markdown",
   "id": "2795c80b-6595-406f-855c-d82cab5d7ca1",
   "metadata": {},
   "source": [
    "Let's also assume that the airport in subpopulation 3 acts as a sentinel. We need to define the sentinel matrix, $p_{\\alpha,\\alpha'}$, giving us the probability that a detection occur if a \"detectable\" individual travels, resulting in the change $\\alpha \\to \\alpha'$. We assume a homogeneous detection rate of 20%, resulting in the sentinel matrix"
   ]
  },
  {
   "cell_type": "code",
   "execution_count": 8,
   "id": "65350b04-4201-40cc-86ea-7250be52d897",
   "metadata": {},
   "outputs": [
    {
     "data": {
      "text/plain": [
       "array([[0. , 0. , 0. , 0. , 0.2, 0. ],\n",
       "       [0. , 0. , 0. , 0. , 0. , 0.2],\n",
       "       [0. , 0. , 0. , 0. , 0. , 0. ],\n",
       "       [0. , 0. , 0. , 0. , 0. , 0. ],\n",
       "       [0. , 0. , 0. , 0. , 0. , 0. ],\n",
       "       [0. , 0. , 0. , 0. , 0. , 0. ]])"
      ]
     },
     "execution_count": 8,
     "metadata": {},
     "output_type": "execute_result"
    }
   ],
   "source": [
    "smat = np.zeros((6,6))\n",
    "smat[0,4] = 0.2\n",
    "smat[1,5] = 0.2\n",
    "smat"
   ]
  },
  {
   "cell_type": "markdown",
   "id": "a36d5521-619b-4e67-a663-c1d389fde249",
   "metadata": {},
   "source": [
    "### Short-range mobility (commuting)"
   ]
  },
  {
   "cell_type": "markdown",
   "id": "9385e3db-f5f4-4891-98f9-f038c792cdaf",
   "metadata": {
    "editable": true,
    "slideshow": {
     "slide_type": ""
    },
    "tags": []
   },
   "source": [
    "Individuals can commute for short distances during a day, then come back to their subpopulation of origin. We can encapsulate this effect into a commuting matrix $c_{\\alpha,\\alpha'}$ for the probability that an $\\alpha$-agent acts effectively as an $\\alpha'$ agent during the day. The matrix is row normalized, i.e., $\\sum_{\\alpha'} c_{\\alpha,\\alpha'}$. Therefore, if an $\\alpha$-agent is infectious, it could infect someone in an adjacent subpopulation if it did commute that day.\n",
    "\n",
    "Another effect of commuting is that if a susceptible agent commutes to a subpopulation containing infectious agents, it might get infected there and come back. To account for this effect, we need to define the matrix $\\tilde{c}_{\\alpha,\\alpha'}$, giving us the fraction of $\\alpha$-agents who are in fact $\\alpha'$-agents who commuted. This second matrix is calculated from $c_{\\alpha,\\alpha'}$ and $N_\\alpha$, the total number of $\\alpha$-agents, i.e., identifying the number of individual of a given age in a certain subpopulation. From these, we have:"
   ]
  },
  {
   "cell_type": "markdown",
   "id": "e13238d2-5d18-439e-8c74-08856d8d531f",
   "metadata": {},
   "source": [
    "\\begin{equation*}\\tilde{c}_{\\alpha,\\alpha'} = \\frac{N_{\\alpha'} c_{\\alpha',\\alpha}}{\\sum_{\\alpha''} N_{\\alpha''} c_{\\alpha'',\\alpha}}\\;.\\end{equation*}"
   ]
  },
  {
   "cell_type": "markdown",
   "id": "daeba43f-ddb0-41b2-8085-7a7ba81f36fc",
   "metadata": {},
   "source": [
    "In our example, only individuals from subpopulation 2 commute to both subpopulation 1 and 3. Individuals have a $4/100$ probability to be in each adjacent subpopulation, and we assume $N_\\alpha = 10^4$ for all categories."
   ]
  },
  {
   "cell_type": "code",
   "execution_count": 9,
   "id": "784a440f-78ac-4c8c-a402-6ec7b9c3b518",
   "metadata": {
    "editable": true,
    "slideshow": {
     "slide_type": ""
    },
    "tags": []
   },
   "outputs": [
    {
     "data": {
      "text/plain": [
       "array([[1.  , 0.  , 0.  , 0.  , 0.  , 0.  ],\n",
       "       [0.  , 1.  , 0.  , 0.  , 0.  , 0.  ],\n",
       "       [0.04, 0.  , 0.92, 0.  , 0.04, 0.  ],\n",
       "       [0.  , 0.04, 0.  , 0.92, 0.  , 0.04],\n",
       "       [0.  , 0.  , 0.  , 0.  , 1.  , 0.  ],\n",
       "       [0.  , 0.  , 0.  , 0.  , 0.  , 1.  ]])"
      ]
     },
     "execution_count": 9,
     "metadata": {},
     "output_type": "execute_result"
    }
   ],
   "source": [
    "cmat2 = np.eye(6)*np.array([1,1,0.92,0.92,1,1])\n",
    "cmat2[2,0] = 0.04\n",
    "cmat2[3,1] = 0.04\n",
    "cmat2[2,4] = 0.04\n",
    "cmat2[3,5] = 0.04\n",
    "cmat2"
   ]
  },
  {
   "cell_type": "code",
   "execution_count": 10,
   "id": "cfcc8246-b68f-4a85-9b70-c395c5e56bb1",
   "metadata": {},
   "outputs": [
    {
     "data": {
      "text/plain": [
       "array([[0.96153846, 0.        , 0.03846154, 0.        , 0.        ,\n",
       "        0.        ],\n",
       "       [0.        , 0.96153846, 0.        , 0.03846154, 0.        ,\n",
       "        0.        ],\n",
       "       [0.        , 0.        , 1.        , 0.        , 0.        ,\n",
       "        0.        ],\n",
       "       [0.        , 0.        , 0.        , 1.        , 0.        ,\n",
       "        0.        ],\n",
       "       [0.        , 0.        , 0.03846154, 0.        , 0.96153846,\n",
       "        0.        ],\n",
       "       [0.        , 0.        , 0.        , 0.03846154, 0.        ,\n",
       "        0.96153846]])"
      ]
     },
     "execution_count": 10,
     "metadata": {},
     "output_type": "execute_result"
    }
   ],
   "source": [
    "N = np.ones(6)*10**5\n",
    "cmat1 = ((N*cmat2.T).T / (cmat2.T @ N)).T\n",
    "cmat1"
   ]
  },
  {
   "cell_type": "markdown",
   "id": "500fc9a1-3d67-4f4d-9843-0884c3162287",
   "metadata": {},
   "source": [
    "We conventionally identify $\\tilde{c}_{\\alpha,\\alpha'}$ as ```cmat1``` and $c_{\\alpha,\\alpha'}$ as ```cmat2``` for ordering consideration in the code implementation. These two matrices will modify internally the contact matrix to account for commuting patterns."
   ]
  },
  {
   "cell_type": "markdown",
   "id": "48f1dec2-5a86-47b0-ba63-5d544c16488f",
   "metadata": {},
   "source": [
    "## Definition of the PGF object and the initial conditions"
   ]
  },
  {
   "cell_type": "markdown",
   "id": "3db2c3d2-d3d0-453c-80e2-47a0b2448747",
   "metadata": {},
   "source": [
    "From all above definition, we can create the pgf object, here we use $\\Psi$ to represent it."
   ]
  },
  {
   "cell_type": "code",
   "execution_count": 11,
   "id": "c2b9dce3-36f6-4f32-b803-8f3090e81d0e",
   "metadata": {},
   "outputs": [],
   "source": [
    "Psi = SentinelPGF(umat,mmat,smat,latency_period,infectious_period,\n",
    "                  post_infectious_period,nb_infectious_states,\n",
    "                  nb_post_infectious_states,infection,nb_microsteps,cmat1=cmat1,cmat2=cmat2)"
   ]
  },
  {
   "cell_type": "markdown",
   "id": "f8c2ac9b-922e-49e9-a4ff-1561b89993a4",
   "metadata": {},
   "source": [
    "The next step is to define initial conditions. This can be done by fixing the number of initial latent/infectious/post-infectious and defining the probabilities to which they are assigned to each index $\\alpha$. For instance, assuming 10 latent and 10 infectious in subpopulation 1, homogeneously distributed at random among the two age groups, this would read"
   ]
  },
  {
   "cell_type": "code",
   "execution_count": 12,
   "id": "64ec5f21-e525-4912-aee6-1aed729bf113",
   "metadata": {},
   "outputs": [],
   "source": [
    "initial_state = {'nb_infectious': 10, 'nb_latent': 10}\n",
    "idx = [0,1]\n",
    "weight = [0.5,0.5] #each index is equiprobable\n",
    "Psi.add_initial_conditions(idx,weight,label='origin: subpopulation 1',**initial_state)"
   ]
  },
  {
   "cell_type": "markdown",
   "id": "72176ff8-adca-422c-bb7d-1d9b3229a356",
   "metadata": {},
   "source": [
    "We can add more initial conditions, here for the other two subpopulations. One advantage of the PGF methodology is that initial conditions are evaluated last, making it computationally cheap to analyze multiple initial conditions."
   ]
  },
  {
   "cell_type": "code",
   "execution_count": 13,
   "id": "9a560c27-1206-40d5-949c-5572786a6ffe",
   "metadata": {},
   "outputs": [],
   "source": [
    "idx = [2,3]\n",
    "Psi.add_initial_conditions(idx,weight,label='origin: subpopulation 2',**initial_state)\n",
    "idx = [4,5]\n",
    "Psi.add_initial_conditions(idx,weight,label='origin: subpopulation 3',**initial_state)"
   ]
  },
  {
   "cell_type": "code",
   "execution_count": 14,
   "id": "19cb455f-fc3a-4432-9848-ec4f92178001",
   "metadata": {},
   "outputs": [
    {
     "data": {
      "text/plain": [
       "{'origin: subpopulation 1': <function pgfgleam.sentinel_pgf.SentinelPGF.add_initial_conditions.<locals>.<lambda>(state_vars)>,\n",
       " 'origin: subpopulation 2': <function pgfgleam.sentinel_pgf.SentinelPGF.add_initial_conditions.<locals>.<lambda>(state_vars)>,\n",
       " 'origin: subpopulation 3': <function pgfgleam.sentinel_pgf.SentinelPGF.add_initial_conditions.<locals>.<lambda>(state_vars)>}"
      ]
     },
     "execution_count": 14,
     "metadata": {},
     "output_type": "execute_result"
    }
   ],
   "source": [
    "Psi.Psi0"
   ]
  },
  {
   "cell_type": "markdown",
   "id": "6a5ae9bb-b0fc-48db-b75c-6461df42b7af",
   "metadata": {},
   "source": [
    "## Time to first detection"
   ]
  },
  {
   "cell_type": "markdown",
   "id": "07f02d3a-b294-4f2e-b2fa-9f7ef812dd13",
   "metadata": {},
   "source": [
    "One of the most important metric calculated in the reference paper above is the time to first detection by a sentinel system. We do so by first getting the distribution for the number of detections at the sentinel as a function of time. To calculate the time to have a **first** detection, we only need the probability of having 0 detections as a function of time."
   ]
  },
  {
   "cell_type": "code",
   "execution_count": 21,
   "id": "d8cf6030-e871-4c54-98e5-0bca06b63f77",
   "metadata": {},
   "outputs": [],
   "source": [
    "#time range over which we want to measure detections\n",
    "t =  list(range(0,60))\n",
    "\n",
    "#transformation that needs to used to measure \"cumulative detection\" on all possible paths leading to detections\n",
    "def transform(state_vars,c_):\n",
    "    state_vars['cumulative detection'] *= c_\n",
    "transform_dict = {max(t):[transform]}  #we measure the cumulative detection for the whole time range, explaining the max(t)\n",
    "\n",
    "#calculate the probability of having 0 detections\n",
    "detections = marginal_p0(Psi, t, transform_dict)\n",
    "detections['probability'] = np.real(detections['probability']) #cast to real (the imaginary part is 0 anyway); obtained from FFT"
   ]
  },
  {
   "cell_type": "code",
   "execution_count": 16,
   "id": "b25b69ec-b4b7-467f-b189-006392482d05",
   "metadata": {},
   "outputs": [
    {
     "data": {
      "text/html": [
       "<div>\n",
       "<style scoped>\n",
       "    .dataframe tbody tr th:only-of-type {\n",
       "        vertical-align: middle;\n",
       "    }\n",
       "\n",
       "    .dataframe tbody tr th {\n",
       "        vertical-align: top;\n",
       "    }\n",
       "\n",
       "    .dataframe thead th {\n",
       "        text-align: right;\n",
       "    }\n",
       "</style>\n",
       "<table border=\"1\" class=\"dataframe\">\n",
       "  <thead>\n",
       "    <tr style=\"text-align: right;\">\n",
       "      <th></th>\n",
       "      <th>label</th>\n",
       "      <th>time</th>\n",
       "      <th>target</th>\n",
       "      <th>probability</th>\n",
       "    </tr>\n",
       "  </thead>\n",
       "  <tbody>\n",
       "    <tr>\n",
       "      <th>0</th>\n",
       "      <td>origin: subpopulation 1</td>\n",
       "      <td>0</td>\n",
       "      <td>0</td>\n",
       "      <td>1.000000e+00</td>\n",
       "    </tr>\n",
       "    <tr>\n",
       "      <th>1</th>\n",
       "      <td>origin: subpopulation 1</td>\n",
       "      <td>1</td>\n",
       "      <td>0</td>\n",
       "      <td>9.980018e-01</td>\n",
       "    </tr>\n",
       "    <tr>\n",
       "      <th>2</th>\n",
       "      <td>origin: subpopulation 1</td>\n",
       "      <td>2</td>\n",
       "      <td>0</td>\n",
       "      <td>9.950146e-01</td>\n",
       "    </tr>\n",
       "    <tr>\n",
       "      <th>3</th>\n",
       "      <td>origin: subpopulation 1</td>\n",
       "      <td>3</td>\n",
       "      <td>0</td>\n",
       "      <td>9.906915e-01</td>\n",
       "    </tr>\n",
       "    <tr>\n",
       "      <th>4</th>\n",
       "      <td>origin: subpopulation 1</td>\n",
       "      <td>4</td>\n",
       "      <td>0</td>\n",
       "      <td>9.849144e-01</td>\n",
       "    </tr>\n",
       "    <tr>\n",
       "      <th>...</th>\n",
       "      <td>...</td>\n",
       "      <td>...</td>\n",
       "      <td>...</td>\n",
       "      <td>...</td>\n",
       "    </tr>\n",
       "    <tr>\n",
       "      <th>175</th>\n",
       "      <td>origin: subpopulation 3</td>\n",
       "      <td>55</td>\n",
       "      <td>0</td>\n",
       "      <td>5.186662e-07</td>\n",
       "    </tr>\n",
       "    <tr>\n",
       "      <th>176</th>\n",
       "      <td>origin: subpopulation 3</td>\n",
       "      <td>56</td>\n",
       "      <td>0</td>\n",
       "      <td>2.243430e-07</td>\n",
       "    </tr>\n",
       "    <tr>\n",
       "      <th>177</th>\n",
       "      <td>origin: subpopulation 3</td>\n",
       "      <td>57</td>\n",
       "      <td>0</td>\n",
       "      <td>1.048183e-07</td>\n",
       "    </tr>\n",
       "    <tr>\n",
       "      <th>178</th>\n",
       "      <td>origin: subpopulation 3</td>\n",
       "      <td>58</td>\n",
       "      <td>0</td>\n",
       "      <td>5.306188e-08</td>\n",
       "    </tr>\n",
       "    <tr>\n",
       "      <th>179</th>\n",
       "      <td>origin: subpopulation 3</td>\n",
       "      <td>59</td>\n",
       "      <td>0</td>\n",
       "      <td>2.909342e-08</td>\n",
       "    </tr>\n",
       "  </tbody>\n",
       "</table>\n",
       "<p>180 rows × 4 columns</p>\n",
       "</div>"
      ],
      "text/plain": [
       "                       label  time  target   probability\n",
       "0    origin: subpopulation 1     0       0  1.000000e+00\n",
       "1    origin: subpopulation 1     1       0  9.980018e-01\n",
       "2    origin: subpopulation 1     2       0  9.950146e-01\n",
       "3    origin: subpopulation 1     3       0  9.906915e-01\n",
       "4    origin: subpopulation 1     4       0  9.849144e-01\n",
       "..                       ...   ...     ...           ...\n",
       "175  origin: subpopulation 3    55       0  5.186662e-07\n",
       "176  origin: subpopulation 3    56       0  2.243430e-07\n",
       "177  origin: subpopulation 3    57       0  1.048183e-07\n",
       "178  origin: subpopulation 3    58       0  5.306188e-08\n",
       "179  origin: subpopulation 3    59       0  2.909342e-08\n",
       "\n",
       "[180 rows x 4 columns]"
      ]
     },
     "execution_count": 16,
     "metadata": {},
     "output_type": "execute_result"
    }
   ],
   "source": [
    "detections #the \"target\" column shows which element of the distribution (nb of detections), here 0"
   ]
  },
  {
   "cell_type": "markdown",
   "id": "027ac972-143e-4b54-b90c-7328a3ad3a3a",
   "metadata": {},
   "source": [
    "From the distribution of detections over time, we can calculate the distribution for the time to first detection:"
   ]
  },
  {
   "cell_type": "code",
   "execution_count": 17,
   "id": "5318f4e9-19ac-4513-a57a-ba4e96370904",
   "metadata": {},
   "outputs": [],
   "source": [
    "detection_time = get_time_to_detection(detections,D=1, quantiles=[0.5], #time to get D = 1 detections\n",
    "                                       groupbycols=['label'])"
   ]
  },
  {
   "cell_type": "code",
   "execution_count": 18,
   "id": "43349da1-733b-4c07-a598-e5302908bef9",
   "metadata": {},
   "outputs": [
    {
     "data": {
      "text/html": [
       "<div>\n",
       "<style scoped>\n",
       "    .dataframe tbody tr th:only-of-type {\n",
       "        vertical-align: middle;\n",
       "    }\n",
       "\n",
       "    .dataframe tbody tr th {\n",
       "        vertical-align: top;\n",
       "    }\n",
       "\n",
       "    .dataframe thead th {\n",
       "        text-align: right;\n",
       "    }\n",
       "</style>\n",
       "<table border=\"1\" class=\"dataframe\">\n",
       "  <thead>\n",
       "    <tr style=\"text-align: right;\">\n",
       "      <th></th>\n",
       "      <th>label</th>\n",
       "      <th>time</th>\n",
       "      <th>probability</th>\n",
       "      <th>cum</th>\n",
       "      <th>mean</th>\n",
       "      <th>0.5</th>\n",
       "    </tr>\n",
       "  </thead>\n",
       "  <tbody>\n",
       "    <tr>\n",
       "      <th>0</th>\n",
       "      <td>origin: subpopulation 1</td>\n",
       "      <td>1</td>\n",
       "      <td>1.998201e-03</td>\n",
       "      <td>0.001998</td>\n",
       "      <td>19.429091</td>\n",
       "      <td>20.0</td>\n",
       "    </tr>\n",
       "    <tr>\n",
       "      <th>1</th>\n",
       "      <td>origin: subpopulation 1</td>\n",
       "      <td>2</td>\n",
       "      <td>2.987180e-03</td>\n",
       "      <td>0.004985</td>\n",
       "      <td>19.429091</td>\n",
       "      <td>20.0</td>\n",
       "    </tr>\n",
       "    <tr>\n",
       "      <th>2</th>\n",
       "      <td>origin: subpopulation 1</td>\n",
       "      <td>3</td>\n",
       "      <td>4.323089e-03</td>\n",
       "      <td>0.009308</td>\n",
       "      <td>19.429091</td>\n",
       "      <td>20.0</td>\n",
       "    </tr>\n",
       "    <tr>\n",
       "      <th>3</th>\n",
       "      <td>origin: subpopulation 1</td>\n",
       "      <td>4</td>\n",
       "      <td>5.777150e-03</td>\n",
       "      <td>0.015086</td>\n",
       "      <td>19.429091</td>\n",
       "      <td>20.0</td>\n",
       "    </tr>\n",
       "    <tr>\n",
       "      <th>4</th>\n",
       "      <td>origin: subpopulation 1</td>\n",
       "      <td>5</td>\n",
       "      <td>7.430141e-03</td>\n",
       "      <td>0.022516</td>\n",
       "      <td>19.429091</td>\n",
       "      <td>20.0</td>\n",
       "    </tr>\n",
       "    <tr>\n",
       "      <th>...</th>\n",
       "      <td>...</td>\n",
       "      <td>...</td>\n",
       "      <td>...</td>\n",
       "      <td>...</td>\n",
       "      <td>...</td>\n",
       "      <td>...</td>\n",
       "    </tr>\n",
       "    <tr>\n",
       "      <th>172</th>\n",
       "      <td>origin: subpopulation 3</td>\n",
       "      <td>55</td>\n",
       "      <td>7.676477e-07</td>\n",
       "      <td>1.000000</td>\n",
       "      <td>34.744775</td>\n",
       "      <td>35.0</td>\n",
       "    </tr>\n",
       "    <tr>\n",
       "      <th>173</th>\n",
       "      <td>origin: subpopulation 3</td>\n",
       "      <td>56</td>\n",
       "      <td>2.943233e-07</td>\n",
       "      <td>1.000000</td>\n",
       "      <td>34.744775</td>\n",
       "      <td>35.0</td>\n",
       "    </tr>\n",
       "    <tr>\n",
       "      <th>174</th>\n",
       "      <td>origin: subpopulation 3</td>\n",
       "      <td>57</td>\n",
       "      <td>1.195247e-07</td>\n",
       "      <td>1.000000</td>\n",
       "      <td>34.744775</td>\n",
       "      <td>35.0</td>\n",
       "    </tr>\n",
       "    <tr>\n",
       "      <th>175</th>\n",
       "      <td>origin: subpopulation 3</td>\n",
       "      <td>58</td>\n",
       "      <td>5.175640e-08</td>\n",
       "      <td>1.000000</td>\n",
       "      <td>34.744775</td>\n",
       "      <td>35.0</td>\n",
       "    </tr>\n",
       "    <tr>\n",
       "      <th>176</th>\n",
       "      <td>origin: subpopulation 3</td>\n",
       "      <td>59</td>\n",
       "      <td>2.396847e-08</td>\n",
       "      <td>1.000000</td>\n",
       "      <td>34.744775</td>\n",
       "      <td>35.0</td>\n",
       "    </tr>\n",
       "  </tbody>\n",
       "</table>\n",
       "<p>177 rows × 6 columns</p>\n",
       "</div>"
      ],
      "text/plain": [
       "                       label  time   probability       cum       mean   0.5\n",
       "0    origin: subpopulation 1     1  1.998201e-03  0.001998  19.429091  20.0\n",
       "1    origin: subpopulation 1     2  2.987180e-03  0.004985  19.429091  20.0\n",
       "2    origin: subpopulation 1     3  4.323089e-03  0.009308  19.429091  20.0\n",
       "3    origin: subpopulation 1     4  5.777150e-03  0.015086  19.429091  20.0\n",
       "4    origin: subpopulation 1     5  7.430141e-03  0.022516  19.429091  20.0\n",
       "..                       ...   ...           ...       ...        ...   ...\n",
       "172  origin: subpopulation 3    55  7.676477e-07  1.000000  34.744775  35.0\n",
       "173  origin: subpopulation 3    56  2.943233e-07  1.000000  34.744775  35.0\n",
       "174  origin: subpopulation 3    57  1.195247e-07  1.000000  34.744775  35.0\n",
       "175  origin: subpopulation 3    58  5.175640e-08  1.000000  34.744775  35.0\n",
       "176  origin: subpopulation 3    59  2.396847e-08  1.000000  34.744775  35.0\n",
       "\n",
       "[177 rows x 6 columns]"
      ]
     },
     "execution_count": 18,
     "metadata": {},
     "output_type": "execute_result"
    }
   ],
   "source": [
    "detection_time"
   ]
  },
  {
   "cell_type": "markdown",
   "id": "9f67d24d-64ca-44fa-881a-e741193b931f",
   "metadata": {},
   "source": [
    "The 'time' and 'probability' columns are the support and distribution respectively; 'cum' is the cumulative probability. Besides the 'mean', we can compute quantiles, here only the median is calculated corresponding to '0.5'. For each source, here is the mean time to first detection:"
   ]
  },
  {
   "cell_type": "code",
   "execution_count": 19,
   "id": "0e3a8e54-bcb7-4132-ba10-773f12bbc4ab",
   "metadata": {},
   "outputs": [
    {
     "data": {
      "text/html": [
       "<div>\n",
       "<style scoped>\n",
       "    .dataframe tbody tr th:only-of-type {\n",
       "        vertical-align: middle;\n",
       "    }\n",
       "\n",
       "    .dataframe tbody tr th {\n",
       "        vertical-align: top;\n",
       "    }\n",
       "\n",
       "    .dataframe thead th {\n",
       "        text-align: right;\n",
       "    }\n",
       "</style>\n",
       "<table border=\"1\" class=\"dataframe\">\n",
       "  <thead>\n",
       "    <tr style=\"text-align: right;\">\n",
       "      <th></th>\n",
       "      <th>label</th>\n",
       "      <th>mean</th>\n",
       "    </tr>\n",
       "  </thead>\n",
       "  <tbody>\n",
       "    <tr>\n",
       "      <th>0</th>\n",
       "      <td>origin: subpopulation 1</td>\n",
       "      <td>19.429091</td>\n",
       "    </tr>\n",
       "    <tr>\n",
       "      <th>59</th>\n",
       "      <td>origin: subpopulation 2</td>\n",
       "      <td>28.307560</td>\n",
       "    </tr>\n",
       "    <tr>\n",
       "      <th>118</th>\n",
       "      <td>origin: subpopulation 3</td>\n",
       "      <td>34.744775</td>\n",
       "    </tr>\n",
       "  </tbody>\n",
       "</table>\n",
       "</div>"
      ],
      "text/plain": [
       "                       label       mean\n",
       "0    origin: subpopulation 1  19.429091\n",
       "59   origin: subpopulation 2  28.307560\n",
       "118  origin: subpopulation 3  34.744775"
      ]
     },
     "execution_count": 19,
     "metadata": {},
     "output_type": "execute_result"
    }
   ],
   "source": [
    "detection_time[['label','mean']].drop_duplicates()"
   ]
  },
  {
   "cell_type": "markdown",
   "id": "f98f0bb1-7b60-4bb4-910c-a7c5b8e76304",
   "metadata": {},
   "source": [
    "And the probability distribution for the time to first detection:"
   ]
  },
  {
   "cell_type": "code",
   "execution_count": 20,
   "id": "11033c2d-09aa-41e3-b436-c9afeb0ace54",
   "metadata": {},
   "outputs": [
    {
     "data": {
      "text/plain": [
       "Text(0, 0.5, 'Probability')"
      ]
     },
     "execution_count": 20,
     "metadata": {},
     "output_type": "execute_result"
    },
    {
     "data": {
      "image/png": "[encoded data removed]",
      "text/plain": [
       "<Figure size 640x480 with 1 Axes>"
      ]
     },
     "metadata": {},
     "output_type": "display_data"
    }
   ],
   "source": [
    "for label,df in detection_time.groupby('label'):\n",
    "    plt.plot(df['time'],df['probability'],label=label)\n",
    "plt.legend()\n",
    "plt.xlabel('Time to first detection since epidemic onset (days)')\n",
    "plt.ylabel('Probability')"
   ]
  },
  {
   "cell_type": "markdown",
   "id": "fc1be378-2c02-4274-a5d4-d41413f2ba45",
   "metadata": {},
   "source": [
    "## Cumulant extraction"
   ]
  },
  {
   "cell_type": "markdown",
   "id": "72c26193-3e2b-43c0-b155-22d4c7a98605",
   "metadata": {},
   "source": [
    "Instead of extacting a full probability distribution, it is sometimes more convenient to extract the mean and variance, or in the multivariate case the mean vector and covariance matrix. To do so, we implemented the *cumulant generating function* (CGF), which is obtained by simply passing the argument ```cumulant = True``` in the object definition."
   ]
  },
  {
   "cell_type": "code",
   "execution_count": 49,
   "id": "d6358118-d40b-46ba-8db3-77a328404472",
   "metadata": {},
   "outputs": [],
   "source": [
    "K = SentinelPGF(umat,mmat,smat,latency_period,infectious_period,\n",
    "                post_infectious_period,nb_infectious_states,\n",
    "                nb_post_infectious_states,infection,nb_microsteps,cmat1=cmat1,cmat2=cmat2,cumulant=True)"
   ]
  },
  {
   "cell_type": "markdown",
   "id": "d8128f90-3c66-46ed-950c-17fc688b89b3",
   "metadata": {},
   "source": [
    "We can then work similarly as with the PGF, adding initial conditions and extracting the cumulant of interest. Here we calculate the mean (and variance) for the number of detections at a sentinel."
   ]
  },
  {
   "cell_type": "code",
   "execution_count": 50,
   "id": "04846f4a-cd9f-4ad3-bfd4-7e3824d43aae",
   "metadata": {},
   "outputs": [],
   "source": [
    "initial_state = {'nb_infectious': 10, 'nb_latent': 10}\n",
    "idx = [0,1]\n",
    "weight = [0.5,0.5] #each index is equiprobable\n",
    "K.add_initial_conditions(idx,weight,label='origin: subpopulation 1',**initial_state)\n",
    "idx = [2,3]\n",
    "K.add_initial_conditions(idx,weight,label='origin: subpopulation 2',**initial_state)\n",
    "idx = [4,5]\n",
    "K.add_initial_conditions(idx,weight,label='origin: subpopulation 3',**initial_state)"
   ]
  },
  {
   "cell_type": "code",
   "execution_count": 56,
   "id": "369821e4-bb4e-4788-bf34-5363c4562dbd",
   "metadata": {},
   "outputs": [],
   "source": [
    "#time range over which we want to measure detections\n",
    "t =  list(range(0,50))\n",
    "\n",
    "#transformation that needs to used to measure \"cumulative detection\" on all possible paths leading to detections\n",
    "def transform(state_vars,c_):\n",
    "    state_vars['cumulative detection'] *= c_\n",
    "transform_dict = {max(t):[transform]}  #we measure the cumulative detection for the whole time range, explaining the max(t)\n",
    "\n",
    "#calculate the cumulants (order 0,1,2,3) for the number of detections at the sentinel\n",
    "cumulants = marginal_cumulants(K, t, transform_dict, radius=10**(-4),resolution=4)"
   ]
  },
  {
   "cell_type": "markdown",
   "id": "345eb0d1-58a8-4775-9e5e-ded04765ca76",
   "metadata": {},
   "source": [
    "The ```radius``` parameter is used to reduce aliasing effects caused by the underlying fast Fourier transform numerical inversion; the ```resolution``` parameter dictates how many cumulants are extracted, starting from the 0th order cumulant. These parameters should be chosen with care, please have a look [here](https://cosmo-notes.github.io/pgfunk/chapters/numerical_inversion.html) to better understand the numerical inversion procedure for generating functions and its limitations."
   ]
  },
  {
   "cell_type": "code",
   "execution_count": 52,
   "id": "c23f2abc-6331-4145-a6b5-f7d4a946e0b1",
   "metadata": {},
   "outputs": [
    {
     "data": {
      "text/html": [
       "<div>\n",
       "<style scoped>\n",
       "    .dataframe tbody tr th:only-of-type {\n",
       "        vertical-align: middle;\n",
       "    }\n",
       "\n",
       "    .dataframe tbody tr th {\n",
       "        vertical-align: top;\n",
       "    }\n",
       "\n",
       "    .dataframe thead th {\n",
       "        text-align: right;\n",
       "    }\n",
       "</style>\n",
       "<table border=\"1\" class=\"dataframe\">\n",
       "  <thead>\n",
       "    <tr style=\"text-align: right;\">\n",
       "      <th></th>\n",
       "      <th>label</th>\n",
       "      <th>time</th>\n",
       "      <th>target</th>\n",
       "      <th>cumulant</th>\n",
       "    </tr>\n",
       "  </thead>\n",
       "  <tbody>\n",
       "    <tr>\n",
       "      <th>0</th>\n",
       "      <td>origin: subpopulation 1</td>\n",
       "      <td>0</td>\n",
       "      <td>0</td>\n",
       "      <td>0.000000e+00</td>\n",
       "    </tr>\n",
       "    <tr>\n",
       "      <th>1</th>\n",
       "      <td>origin: subpopulation 1</td>\n",
       "      <td>0</td>\n",
       "      <td>1</td>\n",
       "      <td>0.000000e+00</td>\n",
       "    </tr>\n",
       "    <tr>\n",
       "      <th>2</th>\n",
       "      <td>origin: subpopulation 1</td>\n",
       "      <td>0</td>\n",
       "      <td>2</td>\n",
       "      <td>0.000000e+00</td>\n",
       "    </tr>\n",
       "    <tr>\n",
       "      <th>3</th>\n",
       "      <td>origin: subpopulation 1</td>\n",
       "      <td>0</td>\n",
       "      <td>3</td>\n",
       "      <td>0.000000e+00</td>\n",
       "    </tr>\n",
       "    <tr>\n",
       "      <th>4</th>\n",
       "      <td>origin: subpopulation 1</td>\n",
       "      <td>1</td>\n",
       "      <td>0</td>\n",
       "      <td>6.848272e-23</td>\n",
       "    </tr>\n",
       "    <tr>\n",
       "      <th>...</th>\n",
       "      <td>...</td>\n",
       "      <td>...</td>\n",
       "      <td>...</td>\n",
       "      <td>...</td>\n",
       "    </tr>\n",
       "    <tr>\n",
       "      <th>595</th>\n",
       "      <td>origin: subpopulation 3</td>\n",
       "      <td>48</td>\n",
       "      <td>3</td>\n",
       "      <td>4.426901e+02</td>\n",
       "    </tr>\n",
       "    <tr>\n",
       "      <th>596</th>\n",
       "      <td>origin: subpopulation 3</td>\n",
       "      <td>49</td>\n",
       "      <td>0</td>\n",
       "      <td>3.976771e-12</td>\n",
       "    </tr>\n",
       "    <tr>\n",
       "      <th>597</th>\n",
       "      <td>origin: subpopulation 3</td>\n",
       "      <td>49</td>\n",
       "      <td>1</td>\n",
       "      <td>1.836661e+01</td>\n",
       "    </tr>\n",
       "    <tr>\n",
       "      <th>598</th>\n",
       "      <td>origin: subpopulation 3</td>\n",
       "      <td>49</td>\n",
       "      <td>2</td>\n",
       "      <td>7.672334e+01</td>\n",
       "    </tr>\n",
       "    <tr>\n",
       "      <th>599</th>\n",
       "      <td>origin: subpopulation 3</td>\n",
       "      <td>49</td>\n",
       "      <td>3</td>\n",
       "      <td>7.331103e+02</td>\n",
       "    </tr>\n",
       "  </tbody>\n",
       "</table>\n",
       "<p>600 rows × 4 columns</p>\n",
       "</div>"
      ],
      "text/plain": [
       "                       label  time  target      cumulant\n",
       "0    origin: subpopulation 1     0       0  0.000000e+00\n",
       "1    origin: subpopulation 1     0       1  0.000000e+00\n",
       "2    origin: subpopulation 1     0       2  0.000000e+00\n",
       "3    origin: subpopulation 1     0       3  0.000000e+00\n",
       "4    origin: subpopulation 1     1       0  6.848272e-23\n",
       "..                       ...   ...     ...           ...\n",
       "595  origin: subpopulation 3    48       3  4.426901e+02\n",
       "596  origin: subpopulation 3    49       0  3.976771e-12\n",
       "597  origin: subpopulation 3    49       1  1.836661e+01\n",
       "598  origin: subpopulation 3    49       2  7.672334e+01\n",
       "599  origin: subpopulation 3    49       3  7.331103e+02\n",
       "\n",
       "[600 rows x 4 columns]"
      ]
     },
     "execution_count": 52,
     "metadata": {},
     "output_type": "execute_result"
    }
   ],
   "source": [
    "cumulants"
   ]
  },
  {
   "cell_type": "markdown",
   "id": "9b952ae9-c89c-4149-89a4-50b3eee066ec",
   "metadata": {},
   "source": [
    "The ```target``` column serves to differentiate the different cumulants, the first cumulant ```target == 1``` is the mean and the second cumulant ```target == 2``` is the variance. Below, we plot the mean number of detections at the sentinel for each origin as a function of time."
   ]
  },
  {
   "cell_type": "code",
   "execution_count": 54,
   "id": "a01f9ebc-315b-45a4-a0a0-ac5699dce20d",
   "metadata": {},
   "outputs": [],
   "source": [
    "df = cumulants[cumulants['target'] == 1]"
   ]
  },
  {
   "cell_type": "code",
   "execution_count": 55,
   "id": "848924a1-e5fa-4c61-bacb-90d501b721ba",
   "metadata": {},
   "outputs": [
    {
     "data": {
      "text/plain": [
       "<matplotlib.legend.Legend at 0x1261d9330>"
      ]
     },
     "execution_count": 55,
     "metadata": {},
     "output_type": "execute_result"
    },
    {
     "data": {
      "image/png": "[encoded data removed]",
      "text/plain": [
       "<Figure size 640x480 with 1 Axes>"
      ]
     },
     "metadata": {},
     "output_type": "display_data"
    }
   ],
   "source": [
    "for label,df_ in df.groupby('label'):\n",
    "    plt.semilogy(df_['time'],df_['cumulant'],label=label)\n",
    "plt.legend()"
   ]
  }
 ],
 "metadata": {
  "kernelspec": {
   "display_name": "Python 3 (ipykernel)",
   "language": "python",
   "name": "python3"
  },
  "language_info": {
   "codemirror_mode": {
    "name": "ipython",
    "version": 3
   },
   "file_extension": ".py",
   "mimetype": "text/x-python",
   "name": "python",
   "nbconvert_exporter": "python",
   "pygments_lexer": "ipython3",
   "version": "3.10.6"
  }
 },
 "nbformat": 4,
 "nbformat_minor": 5
}
